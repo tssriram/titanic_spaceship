{
 "cells": [
  {
   "cell_type": "code",
   "execution_count": 1,
   "metadata": {},
   "outputs": [],
   "source": [
    "import tensorflow as tf\n",
    "from tensorflow import keras\n",
    "from keras import layers, models\n",
    "import pandas as pd\n",
    "import numpy as np\n",
    "from sklearn.impute import SimpleImputer\n",
    "import matplotlib.pyplot as plt\n",
    "from sklearn.preprocessing import  StandardScaler\n",
    "pd.options.mode.chained_assignment = None \n",
    "import gender_guesser.detector as gender\n",
    "d=gender.Detector(case_sensitive=False)"
   ]
  },
  {
   "cell_type": "code",
   "execution_count": 2,
   "metadata": {},
   "outputs": [],
   "source": [
    "raw_train=pd.read_csv('train.csv')\n",
    "raw_test=pd.read_csv('test.csv')\n",
    "train=raw_train[:]\n",
    "test=raw_test[:]"
   ]
  },
  {
   "cell_type": "code",
   "execution_count": 3,
   "metadata": {},
   "outputs": [],
   "source": [
    "def cabin_separation(df):\n",
    "    \n",
    "    df['CabinDeck'] = df['Cabin'].str.split('/', expand=True)[0]\n",
    "    df['CabinNum']  = df['Cabin'].str.split('/', expand=True)[1]\n",
    "    df['CabinSide'] = df['Cabin'].str.split('/', expand=True)[2]\n",
    "    \n",
    "    df.drop(columns = ['Cabin'], inplace = True)\n",
    "    return df\n",
    "\n",
    "train=cabin_separation(train)\n",
    "test=cabin_separation(test)"
   ]
  },
  {
   "cell_type": "code",
   "execution_count": 4,
   "metadata": {},
   "outputs": [],
   "source": [
    "cols=list(train.columns)\n",
    "cols.remove('Transported')"
   ]
  },
  {
   "cell_type": "code",
   "execution_count": 5,
   "metadata": {},
   "outputs": [],
   "source": [
    "def logic(df, age_limit = 18):\n",
    "    df['RoomService'] = np.where(df['Age'] < age_limit, 0, df['RoomService'])\n",
    "    df['FoodCourt'] = np.where(df['Age'] < age_limit, 0, df['FoodCourt'])\n",
    "    df['ShoppingMall'] = np.where(df['Age'] < age_limit, 0, df['ShoppingMall'])\n",
    "    df['Spa'] = np.where(df['Age'] < age_limit, 0, df['Spa'])\n",
    "    df['VRDeck'] = np.where(df['Age'] < age_limit, 0, df['VRDeck'])\n",
    "\n",
    "    df['RoomService'] = np.where(df['CryoSleep'] == True, 0, df['RoomService'])\n",
    "    df['FoodCourt'] = np.where(df['CryoSleep'] == True, 0, df['FoodCourt'])\n",
    "    df['ShoppingMall'] = np.where(df['CryoSleep'] == True, 0, df['ShoppingMall'])\n",
    "    df['Spa'] = np.where(df['CryoSleep'] == True, 0, df['Spa'])\n",
    "    df['VRDeck'] = np.where(df['CryoSleep'] == True, 0, df['VRDeck'])\n",
    "    \n",
    "    return df\n",
    "\n",
    "train=logic(train)\n",
    "test=logic(test)"
   ]
  },
  {
   "cell_type": "code",
   "execution_count": 6,
   "metadata": {},
   "outputs": [],
   "source": [
    "imputer_a = SimpleImputer(strategy='most_frequent')\n",
    "imputer_b = SimpleImputer(strategy='median')\n",
    "scaler = StandardScaler()\n",
    "\n",
    "for i in cols:\n",
    "    if(train[i].dtype!=np.int64 and train[i].dtype!=np.float64 and train[i].dtype!=np.bool_):\n",
    "        train[i]=imputer_a.fit_transform(train[[i]]).ravel()\n",
    "        test[i]=imputer_a.transform(test[[i]]).ravel()\n",
    "    elif(train[i].dtype!=np.bool_):\n",
    "        train[i]=imputer_b.fit_transform(train[[i]]).ravel()\n",
    "        train[i]=scaler.fit_transform(train[[i]]).ravel()\n",
    "        test[i]=imputer_b.transform(test[[i]]).ravel()\n",
    "        test[i]=scaler.transform(test[[i]]).ravel()\n",
    "    if(train[i].dtype==np.bool_):\n",
    "        train[i]=train[i]*1\n",
    "        test[i]=test[i]*1\n",
    "        \n",
    "\n",
    "train.CryoSleep=train['CryoSleep'].astype(int)\n",
    "train.VIP=train['VIP'].astype(int)\n",
    "train.Transported=train.Transported*1\n",
    "test.CryoSleep=test['CryoSleep'].astype(int)\n",
    "test.VIP=test['VIP'].astype(int)"
   ]
  },
  {
   "cell_type": "code",
   "execution_count": 7,
   "metadata": {},
   "outputs": [],
   "source": [
    "def total_billed(df):\n",
    "    df['TotalBilled'] = df['RoomService'] + df['FoodCourt'] + df['ShoppingMall'] + df['Spa'] + df['VRDeck']\n",
    "    return df\n",
    "\n",
    "train=total_billed(train)\n",
    "test=total_billed(test)"
   ]
  },
  {
   "cell_type": "code",
   "execution_count": 8,
   "metadata": {},
   "outputs": [],
   "source": [
    "train['FirstName']=[x.partition(' ')[0] for x in train.Name]\n",
    "train['Gender']=[d.get_gender(x) for x in train.FirstName]\n",
    "train.drop(columns = ['FirstName'], inplace = True)\n",
    "test['FirstName']=[x.partition(' ')[0] for x in test.Name]\n",
    "test['Gender']=[d.get_gender(x) for x in test.FirstName]\n",
    "test.drop(columns = ['FirstName'], inplace = True)"
   ]
  },
  {
   "cell_type": "code",
   "execution_count": 9,
   "metadata": {},
   "outputs": [],
   "source": [
    "cab=train.loc[:,['CabinNum','Transported']]\n",
    "cab=cab.groupby('CabinNum', as_index=False).agg(lambda x: sum(x)/len(x))\n",
    "cab=cab.loc[(cab['Transported']<0.05) | (cab['Transported']>0.95)]"
   ]
  },
  {
   "cell_type": "code",
   "execution_count": 10,
   "metadata": {},
   "outputs": [],
   "source": [
    "X=train.drop(['Transported','PassengerId','Name','CabinNum'],axis=1)\n",
    "X=pd.get_dummies(X,columns=['HomePlanet','Destination','CabinDeck','CabinSide','Gender'])\n",
    "Y=train.Transported\n",
    "X_t=test.drop(['PassengerId','Name','CabinNum'],axis=1)\n",
    "X_t=pd.get_dummies(X_t,columns=['HomePlanet','Destination','CabinDeck','CabinSide','Gender'])"
   ]
  },
  {
   "cell_type": "code",
   "execution_count": 11,
   "metadata": {},
   "outputs": [
    {
     "data": {
      "text/plain": [
       "1"
      ]
     },
     "execution_count": 11,
     "metadata": {},
     "output_type": "execute_result"
    }
   ],
   "source": [
    "len(tf.config.list_physical_devices('GPU'))"
   ]
  },
  {
   "cell_type": "code",
   "execution_count": 12,
   "metadata": {},
   "outputs": [
    {
     "name": "stdout",
     "output_type": "stream",
     "text": [
      "Metal device set to: Apple M1 Max\n",
      "\n",
      "systemMemory: 32.00 GB\n",
      "maxCacheSize: 10.67 GB\n",
      "\n"
     ]
    },
    {
     "name": "stderr",
     "output_type": "stream",
     "text": [
      "2022-06-10 07:22:02.701063: I tensorflow/core/common_runtime/pluggable_device/pluggable_device_factory.cc:305] Could not identify NUMA node of platform GPU ID 0, defaulting to 0. Your kernel may not have been built with NUMA support.\n",
      "2022-06-10 07:22:02.701438: I tensorflow/core/common_runtime/pluggable_device/pluggable_device_factory.cc:271] Created TensorFlow device (/job:localhost/replica:0/task:0/device:GPU:0 with 0 MB memory) -> physical PluggableDevice (device: 0, name: METAL, pci bus id: <undefined>)\n"
     ]
    }
   ],
   "source": [
    "model = keras.Sequential([\n",
    "        layers.Dense(600, activation='relu', input_shape=(X.shape[-1],), bias_regularizer=keras.regularizers.L2(0.002)),\n",
    "        layers.Dropout(0.25),\n",
    "        layers.BatchNormalization(),\n",
    "        layers.Dense(100, activation='relu'),\n",
    "        layers.Dropout(0.15),\n",
    "        layers.BatchNormalization(),\n",
    "        layers.Dense(50, activation='relu'),\n",
    "        layers.BatchNormalization(),\n",
    "        layers.Dense(25, activation='relu'),\n",
    "        layers.BatchNormalization(),\n",
    "        layers.Dense(1, activation='sigmoid')\n",
    "    ])\n",
    "    \n",
    "metrics = [\n",
    "    'accuracy',\n",
    "    keras.metrics.Precision(name=\"precision\"),\n",
    "    keras.metrics.Recall(name=\"recall\"),\n",
    "]\n",
    "\n",
    "model.compile(optimizer=keras.optimizers.Nadam(learning_rate=0.0002), loss=\"binary_crossentropy\",metrics=metrics)"
   ]
  },
  {
   "cell_type": "code",
   "execution_count": 13,
   "metadata": {},
   "outputs": [
    {
     "name": "stdout",
     "output_type": "stream",
     "text": [
      "Epoch 1/25\n"
     ]
    },
    {
     "name": "stderr",
     "output_type": "stream",
     "text": [
      "2022-06-10 07:22:03.409689: W tensorflow/core/platform/profile_utils/cpu_utils.cc:128] Failed to get CPU frequency: 0 Hz\n",
      "2022-06-10 07:22:04.358824: I tensorflow/core/grappler/optimizers/custom_graph_optimizer_registry.cc:113] Plugin optimizer for device_type GPU is enabled.\n"
     ]
    },
    {
     "name": "stdout",
     "output_type": "stream",
     "text": [
      "79/79 [==============================] - ETA: 0s - loss: 0.5966 - accuracy: 0.6863 - precision: 0.6959 - recall: 0.6788"
     ]
    },
    {
     "name": "stderr",
     "output_type": "stream",
     "text": [
      "2022-06-10 07:22:09.824027: I tensorflow/core/grappler/optimizers/custom_graph_optimizer_registry.cc:113] Plugin optimizer for device_type GPU is enabled.\n"
     ]
    },
    {
     "name": "stdout",
     "output_type": "stream",
     "text": [
      "79/79 [==============================] - 7s 33ms/step - loss: 0.5966 - accuracy: 0.6863 - precision: 0.6959 - recall: 0.6788 - val_loss: 0.6312 - val_accuracy: 0.6575 - val_precision: 0.5806 - val_recall: 0.9581\n",
      "Epoch 2/25\n",
      "79/79 [==============================] - 2s 25ms/step - loss: 0.4918 - accuracy: 0.7604 - precision: 0.7671 - recall: 0.7586 - val_loss: 0.5692 - val_accuracy: 0.7506 - val_precision: 0.6925 - val_recall: 0.8374\n",
      "Epoch 3/25\n",
      "79/79 [==============================] - 2s 27ms/step - loss: 0.4695 - accuracy: 0.7711 - precision: 0.7777 - recall: 0.7689 - val_loss: 0.5202 - val_accuracy: 0.7690 - val_precision: 0.7223 - val_recall: 0.8202\n",
      "Epoch 4/25\n",
      "79/79 [==============================] - 2s 25ms/step - loss: 0.4599 - accuracy: 0.7703 - precision: 0.7746 - recall: 0.7724 - val_loss: 0.4810 - val_accuracy: 0.7828 - val_precision: 0.7374 - val_recall: 0.8300\n",
      "Epoch 5/25\n",
      "79/79 [==============================] - 2s 24ms/step - loss: 0.4488 - accuracy: 0.7817 - precision: 0.7833 - recall: 0.7880 - val_loss: 0.4628 - val_accuracy: 0.7667 - val_precision: 0.7202 - val_recall: 0.8177\n",
      "Epoch 6/25\n",
      "79/79 [==============================] - 2s 25ms/step - loss: 0.4438 - accuracy: 0.7837 - precision: 0.7849 - recall: 0.7908 - val_loss: 0.4470 - val_accuracy: 0.7793 - val_precision: 0.7399 - val_recall: 0.8128\n",
      "Epoch 7/25\n",
      "79/79 [==============================] - 2s 24ms/step - loss: 0.4366 - accuracy: 0.7877 - precision: 0.7871 - recall: 0.7976 - val_loss: 0.4395 - val_accuracy: 0.7747 - val_precision: 0.7365 - val_recall: 0.8054\n",
      "Epoch 8/25\n",
      "79/79 [==============================] - 2s 24ms/step - loss: 0.4332 - accuracy: 0.7870 - precision: 0.7858 - recall: 0.7981 - val_loss: 0.4318 - val_accuracy: 0.7770 - val_precision: 0.7431 - val_recall: 0.7980\n",
      "Epoch 9/25\n",
      "79/79 [==============================] - 2s 24ms/step - loss: 0.4317 - accuracy: 0.7882 - precision: 0.7877 - recall: 0.7978 - val_loss: 0.4288 - val_accuracy: 0.7839 - val_precision: 0.7477 - val_recall: 0.8103\n",
      "Epoch 10/25\n",
      "79/79 [==============================] - 2s 25ms/step - loss: 0.4291 - accuracy: 0.7863 - precision: 0.7879 - recall: 0.7923 - val_loss: 0.4268 - val_accuracy: 0.7874 - val_precision: 0.7494 - val_recall: 0.8177\n",
      "Epoch 11/25\n",
      "79/79 [==============================] - 2s 26ms/step - loss: 0.4223 - accuracy: 0.7943 - precision: 0.7907 - recall: 0.8092 - val_loss: 0.4268 - val_accuracy: 0.7862 - val_precision: 0.7535 - val_recall: 0.8054\n",
      "Epoch 12/25\n",
      "79/79 [==============================] - 2s 24ms/step - loss: 0.4198 - accuracy: 0.7962 - precision: 0.7974 - recall: 0.8026 - val_loss: 0.4243 - val_accuracy: 0.7828 - val_precision: 0.7472 - val_recall: 0.8079\n",
      "Epoch 13/25\n",
      "79/79 [==============================] - 2s 24ms/step - loss: 0.4207 - accuracy: 0.7960 - precision: 0.7915 - recall: 0.8122 - val_loss: 0.4262 - val_accuracy: 0.7874 - val_precision: 0.7529 - val_recall: 0.8103\n",
      "Epoch 14/25\n",
      "79/79 [==============================] - 2s 24ms/step - loss: 0.4142 - accuracy: 0.8025 - precision: 0.7981 - recall: 0.8180 - val_loss: 0.4262 - val_accuracy: 0.7885 - val_precision: 0.7581 - val_recall: 0.8030\n",
      "Epoch 15/25\n",
      "79/79 [==============================] - 2s 24ms/step - loss: 0.4142 - accuracy: 0.7964 - precision: 0.7945 - recall: 0.8079 - val_loss: 0.4275 - val_accuracy: 0.7839 - val_precision: 0.7489 - val_recall: 0.8079\n",
      "Epoch 16/25\n",
      "79/79 [==============================] - 2s 23ms/step - loss: 0.4138 - accuracy: 0.7996 - precision: 0.7958 - recall: 0.8142 - val_loss: 0.4254 - val_accuracy: 0.7897 - val_precision: 0.7624 - val_recall: 0.7980\n",
      "Epoch 17/25\n",
      "79/79 [==============================] - 2s 24ms/step - loss: 0.4073 - accuracy: 0.8049 - precision: 0.7999 - recall: 0.8212 - val_loss: 0.4222 - val_accuracy: 0.7862 - val_precision: 0.7546 - val_recall: 0.8030\n",
      "Epoch 18/25\n",
      "79/79 [==============================] - 2s 24ms/step - loss: 0.4080 - accuracy: 0.8001 - precision: 0.7947 - recall: 0.8175 - val_loss: 0.4247 - val_accuracy: 0.7839 - val_precision: 0.7477 - val_recall: 0.8103\n",
      "Epoch 19/25\n",
      "79/79 [==============================] - 2s 24ms/step - loss: 0.4052 - accuracy: 0.8038 - precision: 0.7993 - recall: 0.8192 - val_loss: 0.4261 - val_accuracy: 0.7885 - val_precision: 0.7534 - val_recall: 0.8128\n",
      "Epoch 20/25\n",
      "79/79 [==============================] - 2s 24ms/step - loss: 0.4052 - accuracy: 0.8057 - precision: 0.8015 - recall: 0.8205 - val_loss: 0.4215 - val_accuracy: 0.7943 - val_precision: 0.7671 - val_recall: 0.8030\n",
      "Epoch 21/25\n",
      "79/79 [==============================] - 2s 24ms/step - loss: 0.4064 - accuracy: 0.8033 - precision: 0.8056 - recall: 0.8074 - val_loss: 0.4243 - val_accuracy: 0.7805 - val_precision: 0.7460 - val_recall: 0.8030\n",
      "Epoch 22/25\n",
      "79/79 [==============================] - 2s 24ms/step - loss: 0.3981 - accuracy: 0.8056 - precision: 0.8021 - recall: 0.8192 - val_loss: 0.4245 - val_accuracy: 0.7885 - val_precision: 0.7523 - val_recall: 0.8153\n",
      "Epoch 23/25\n",
      "79/79 [==============================] - 2s 24ms/step - loss: 0.3954 - accuracy: 0.8074 - precision: 0.8022 - recall: 0.8238 - val_loss: 0.4256 - val_accuracy: 0.7793 - val_precision: 0.7610 - val_recall: 0.7685\n",
      "Epoch 24/25\n",
      "79/79 [==============================] - 2s 23ms/step - loss: 0.3959 - accuracy: 0.8081 - precision: 0.8039 - recall: 0.8228 - val_loss: 0.4246 - val_accuracy: 0.7828 - val_precision: 0.7589 - val_recall: 0.7833\n",
      "Epoch 25/25\n",
      "79/79 [==============================] - 2s 23ms/step - loss: 0.3975 - accuracy: 0.8060 - precision: 0.8028 - recall: 0.8190 - val_loss: 0.4233 - val_accuracy: 0.7862 - val_precision: 0.7657 - val_recall: 0.7808\n"
     ]
    }
   ],
   "source": [
    "history=model.fit(X,Y,epochs=25,validation_split = 0.1,batch_size=100,shuffle=True)"
   ]
  },
  {
   "cell_type": "code",
   "execution_count": 14,
   "metadata": {},
   "outputs": [
    {
     "name": "stdout",
     "output_type": "stream",
     "text": [
      "272/272 [==============================] - 2s 8ms/step - loss: 0.3752 - accuracy: 0.8165 - precision: 0.8278 - recall: 0.8026\n"
     ]
    },
    {
     "data": {
      "text/plain": [
       "[0.37522172927856445,\n",
       " 0.816519021987915,\n",
       " 0.8277974128723145,\n",
       " 0.8026496171951294]"
      ]
     },
     "execution_count": 14,
     "metadata": {},
     "output_type": "execute_result"
    }
   ],
   "source": [
    "model.evaluate(X,Y)"
   ]
  },
  {
   "cell_type": "code",
   "execution_count": 15,
   "metadata": {},
   "outputs": [
    {
     "data": {
      "image/png": "[encoded data removed]",
      "text/plain": [
       "<Figure size 432x288 with 1 Axes>"
      ]
     },
     "metadata": {
      "needs_background": "light"
     },
     "output_type": "display_data"
    }
   ],
   "source": [
    "plt.plot(history.history['accuracy'])\n",
    "plt.plot(history.history['val_accuracy'])\n",
    "plt.title('model accuracy')\n",
    "plt.ylabel('accuracy')\n",
    "plt.xlabel('epoch')\n",
    "plt.legend(['train', 'val'], loc='upper left')\n",
    "plt.show()"
   ]
  },
  {
   "cell_type": "code",
   "execution_count": 16,
   "metadata": {},
   "outputs": [
    {
     "data": {
      "image/png": "[encoded data removed]",
      "text/plain": [
       "<Figure size 432x288 with 1 Axes>"
      ]
     },
     "metadata": {
      "needs_background": "light"
     },
     "output_type": "display_data"
    }
   ],
   "source": [
    "plt.plot(history.history['loss'])\n",
    "plt.plot(history.history['val_loss'])\n",
    "plt.title('model loss')\n",
    "plt.ylabel('loss')\n",
    "plt.xlabel('epoch')\n",
    "plt.legend(['train', 'val'], loc='upper left')\n",
    "plt.show()"
   ]
  },
  {
   "cell_type": "code",
   "execution_count": 17,
   "metadata": {},
   "outputs": [
    {
     "name": "stderr",
     "output_type": "stream",
     "text": [
      "2022-06-10 07:22:58.752970: I tensorflow/core/grappler/optimizers/custom_graph_optimizer_registry.cc:113] Plugin optimizer for device_type GPU is enabled.\n"
     ]
    }
   ],
   "source": [
    "Y_t = pd.DataFrame(raw_test.PassengerId)\n",
    "Y_t['Transported'] = model.predict(X_t) > 0.5\n",
    "Y_t.to_csv('pred11.csv',index=False)"
   ]
  }
 ],
 "metadata": {
  "interpreter": {
   "hash": "224fd580946d0562b4265373121769786350b00f2dee5ac3e8c5433a57b0387e"
  },
  "kernelspec": {
   "display_name": "Python 3 (ipykernel)",
   "language": "python",
   "name": "python3"
  },
  "language_info": {
   "codemirror_mode": {
    "name": "ipython",
    "version": 3
   },
   "file_extension": ".py",
   "mimetype": "text/x-python",
   "name": "python",
   "nbconvert_exporter": "python",
   "pygments_lexer": "ipython3",
   "version": "3.9.12"
  }
 },
 "nbformat": 4,
 "nbformat_minor": 2
}
