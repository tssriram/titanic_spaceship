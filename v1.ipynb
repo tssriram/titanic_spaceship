{
 "cells": [
  {
   "cell_type": "code",
   "execution_count": 1,
   "metadata": {},
   "outputs": [],
   "source": [
    "import tensorflow as tf\n",
    "from tensorflow import keras\n",
    "from keras import layers, models\n",
    "import pandas as pd\n",
    "import numpy as np\n",
    "from sklearn.impute import SimpleImputer\n",
    "import matplotlib.pyplot as plt\n",
    "from sklearn.preprocessing import  StandardScaler\n",
    "pd.options.mode.chained_assignment = None \n",
    "import gender_guesser.detector as gender\n",
    "d=gender.Detector(case_sensitive=False)"
   ]
  },
  {
   "cell_type": "code",
   "execution_count": 2,
   "metadata": {},
   "outputs": [],
   "source": [
    "raw_train=pd.read_csv('train.csv')\n",
    "raw_test=pd.read_csv('test.csv')\n",
    "train=raw_train[:]\n",
    "test=raw_test[:]"
   ]
  },
  {
   "cell_type": "code",
   "execution_count": 4,
   "metadata": {},
   "outputs": [],
   "source": [
    "def cabin_separation(df):\n",
    "    \n",
    "    df['CabinDeck'] = df['Cabin'].str.split('/', expand=True)[0]\n",
    "    df['CabinNum']  = df['Cabin'].str.split('/', expand=True)[1]\n",
    "    df['CabinSide'] = df['Cabin'].str.split('/', expand=True)[2]\n",
    "    \n",
    "    df.drop(columns = ['Cabin'], inplace = True)\n",
    "    return df\n",
    "\n",
    "train=cabin_separation(train)\n",
    "test=cabin_separation(test)"
   ]
  },
  {
   "cell_type": "code",
   "execution_count": 5,
   "metadata": {},
   "outputs": [],
   "source": [
    "cols=list(train.columns)\n",
    "cols.remove('Transported')"
   ]
  },
  {
   "cell_type": "code",
   "execution_count": 6,
   "metadata": {},
   "outputs": [],
   "source": [
    "def logic(df, age_limit = 18):\n",
    "    df['RoomService'] = np.where(df['Age'] < age_limit, 0, df['RoomService'])\n",
    "    df['FoodCourt'] = np.where(df['Age'] < age_limit, 0, df['FoodCourt'])\n",
    "    df['ShoppingMall'] = np.where(df['Age'] < age_limit, 0, df['ShoppingMall'])\n",
    "    df['Spa'] = np.where(df['Age'] < age_limit, 0, df['Spa'])\n",
    "    df['VRDeck'] = np.where(df['Age'] < age_limit, 0, df['VRDeck'])\n",
    "\n",
    "    df['RoomService'] = np.where(df['CryoSleep'] == True, 0, df['RoomService'])\n",
    "    df['FoodCourt'] = np.where(df['CryoSleep'] == True, 0, df['FoodCourt'])\n",
    "    df['ShoppingMall'] = np.where(df['CryoSleep'] == True, 0, df['ShoppingMall'])\n",
    "    df['Spa'] = np.where(df['CryoSleep'] == True, 0, df['Spa'])\n",
    "    df['VRDeck'] = np.where(df['CryoSleep'] == True, 0, df['VRDeck'])\n",
    "    \n",
    "    return df\n",
    "\n",
    "train=logic(train)\n",
    "test=logic(test)"
   ]
  },
  {
   "cell_type": "code",
   "execution_count": 7,
   "metadata": {},
   "outputs": [],
   "source": [
    "imputer_a = SimpleImputer(strategy='most_frequent')\n",
    "imputer_b = SimpleImputer(strategy='median')\n",
    "scaler = StandardScaler()\n",
    "\n",
    "for i in cols:\n",
    "    if(train[i].dtype!=np.int64 and train[i].dtype!=np.float64 and train[i].dtype!=np.bool_):\n",
    "        train[i]=imputer_a.fit_transform(train[[i]]).ravel()\n",
    "        test[i]=imputer_a.transform(test[[i]]).ravel()\n",
    "    elif(train[i].dtype!=np.bool_):\n",
    "        train[i]=imputer_b.fit_transform(train[[i]]).ravel()\n",
    "        train[i]=scaler.fit_transform(train[[i]]).ravel()\n",
    "        test[i]=imputer_b.transform(test[[i]]).ravel()\n",
    "        test[i]=scaler.transform(test[[i]]).ravel()\n",
    "    if(train[i].dtype==np.bool_):\n",
    "        train[i]=train[i]*1\n",
    "        test[i]=test[i]*1\n",
    "        \n",
    "\n",
    "train.CryoSleep=train['CryoSleep'].astype(int)\n",
    "train.VIP=train['VIP'].astype(int)\n",
    "train.Transported=train.Transported*1\n",
    "test.CryoSleep=test['CryoSleep'].astype(int)\n",
    "test.VIP=test['VIP'].astype(int)"
   ]
  },
  {
   "cell_type": "code",
   "execution_count": 8,
   "metadata": {},
   "outputs": [],
   "source": [
    "def total_billed(df):\n",
    "    df['TotalBilled'] = df['RoomService'] + df['FoodCourt'] + df['ShoppingMall'] + df['Spa'] + df['VRDeck']\n",
    "    return df\n",
    "\n",
    "train=total_billed(train)\n",
    "test=total_billed(test)"
   ]
  },
  {
   "cell_type": "code",
   "execution_count": 9,
   "metadata": {},
   "outputs": [],
   "source": [
    "train['FirstName']=[x.partition(' ')[0] for x in train.Name]\n",
    "train['Gender']=[d.get_gender(x) for x in train.FirstName]\n",
    "train.drop(columns = ['FirstName'], inplace = True)\n",
    "test['FirstName']=[x.partition(' ')[0] for x in test.Name]\n",
    "test['Gender']=[d.get_gender(x) for x in test.FirstName]\n",
    "test.drop(columns = ['FirstName'], inplace = True)"
   ]
  },
  {
   "cell_type": "code",
   "execution_count": 10,
   "metadata": {},
   "outputs": [],
   "source": [
    "cab=train.loc[:,['CabinNum','Transported']]\n",
    "cab=cab.groupby('CabinNum', as_index=False).agg(lambda x: sum(x)/len(x))\n",
    "cab=cab.loc[(cab['Transported']<0.05) | (cab['Transported']>0.95)]"
   ]
  },
  {
   "cell_type": "code",
   "execution_count": 11,
   "metadata": {},
   "outputs": [],
   "source": [
    "X=train.drop(['Transported','PassengerId','Name','CabinNum'],axis=1)\n",
    "X=pd.get_dummies(X,columns=['HomePlanet','Destination','CabinDeck','CabinSide','Gender'])\n",
    "Y=train.Transported\n",
    "X_t=test.drop(['PassengerId','Name','CabinNum'],axis=1)\n",
    "X_t=pd.get_dummies(X_t,columns=['HomePlanet','Destination','CabinDeck','CabinSide','Gender'])"
   ]
  },
  {
   "cell_type": "code",
   "execution_count": 12,
   "metadata": {},
   "outputs": [
    {
     "data": {
      "text/plain": [
       "1"
      ]
     },
     "execution_count": 12,
     "metadata": {},
     "output_type": "execute_result"
    }
   ],
   "source": [
    "len(tf.config.list_physical_devices('GPU'))"
   ]
  },
  {
   "cell_type": "code",
   "execution_count": 91,
   "metadata": {},
   "outputs": [],
   "source": [
    "model = keras.Sequential([\n",
    "        layers.Dense(600, activation='relu', input_shape=(X.shape[-1],), bias_regularizer=keras.regularizers.L2(0.002)),\n",
    "        layers.Dropout(0.25),\n",
    "        layers.BatchNormalization(),\n",
    "        layers.Dense(100, activation='relu'),\n",
    "        layers.Dropout(0.15),\n",
    "        layers.BatchNormalization(),\n",
    "        layers.Dense(50, activation='relu'),\n",
    "        layers.BatchNormalization(),\n",
    "        layers.Dense(25, activation='relu'),\n",
    "        layers.BatchNormalization(),\n",
    "        layers.Dense(1, activation='sigmoid')\n",
    "    ])\n",
    "    \n",
    "metrics = [\n",
    "    'accuracy',\n",
    "    keras.metrics.Precision(name=\"precision\"),\n",
    "    keras.metrics.Recall(name=\"recall\"),\n",
    "]\n",
    "\n",
    "model.compile(optimizer=keras.optimizers.Nadam(learning_rate=0.0002), loss=\"binary_crossentropy\",metrics=metrics)"
   ]
  },
  {
   "cell_type": "code",
   "execution_count": 92,
   "metadata": {},
   "outputs": [
    {
     "name": "stdout",
     "output_type": "stream",
     "text": [
      "Epoch 1/25\n"
     ]
    },
    {
     "name": "stderr",
     "output_type": "stream",
     "text": [
      "2022-06-06 07:40:04.439214: I tensorflow/core/grappler/optimizers/custom_graph_optimizer_registry.cc:113] Plugin optimizer for device_type GPU is enabled.\n"
     ]
    },
    {
     "name": "stdout",
     "output_type": "stream",
     "text": [
      "79/79 [==============================] - ETA: 0s - loss: 0.6140 - accuracy: 0.6708 - precision: 0.6793 - recall: 0.6662"
     ]
    },
    {
     "name": "stderr",
     "output_type": "stream",
     "text": [
      "2022-06-06 07:40:08.962468: I tensorflow/core/grappler/optimizers/custom_graph_optimizer_registry.cc:113] Plugin optimizer for device_type GPU is enabled.\n"
     ]
    },
    {
     "name": "stdout",
     "output_type": "stream",
     "text": [
      "79/79 [==============================] - 6s 40ms/step - loss: 0.6140 - accuracy: 0.6708 - precision: 0.6793 - recall: 0.6662 - val_loss: 0.6309 - val_accuracy: 0.7126 - val_precision: 0.8645 - val_recall: 0.4557\n",
      "Epoch 2/25\n",
      "79/79 [==============================] - 2s 28ms/step - loss: 0.5044 - accuracy: 0.7541 - precision: 0.7747 - recall: 0.7271 - val_loss: 0.5631 - val_accuracy: 0.7552 - val_precision: 0.8876 - val_recall: 0.5443\n",
      "Epoch 3/25\n",
      "79/79 [==============================] - 2s 29ms/step - loss: 0.4803 - accuracy: 0.7613 - precision: 0.7763 - recall: 0.7445 - val_loss: 0.5189 - val_accuracy: 0.7632 - val_precision: 0.8759 - val_recall: 0.5739\n",
      "Epoch 4/25\n",
      "79/79 [==============================] - 2s 27ms/step - loss: 0.4536 - accuracy: 0.7759 - precision: 0.7857 - recall: 0.7681 - val_loss: 0.4772 - val_accuracy: 0.7713 - val_precision: 0.8485 - val_recall: 0.6207\n",
      "Epoch 5/25\n",
      "79/79 [==============================] - 2s 27ms/step - loss: 0.4516 - accuracy: 0.7792 - precision: 0.7891 - recall: 0.7714 - val_loss: 0.4445 - val_accuracy: 0.7862 - val_precision: 0.8039 - val_recall: 0.7167\n",
      "Epoch 6/25\n",
      "79/79 [==============================] - 2s 28ms/step - loss: 0.4427 - accuracy: 0.7852 - precision: 0.7920 - recall: 0.7825 - val_loss: 0.4362 - val_accuracy: 0.7885 - val_precision: 0.7832 - val_recall: 0.7562\n",
      "Epoch 7/25\n",
      "79/79 [==============================] - 2s 27ms/step - loss: 0.4371 - accuracy: 0.7863 - precision: 0.7950 - recall: 0.7802 - val_loss: 0.4303 - val_accuracy: 0.7874 - val_precision: 0.7783 - val_recall: 0.7611\n",
      "Epoch 8/25\n",
      "79/79 [==============================] - 2s 28ms/step - loss: 0.4319 - accuracy: 0.7910 - precision: 0.7979 - recall: 0.7880 - val_loss: 0.4294 - val_accuracy: 0.7897 - val_precision: 0.7767 - val_recall: 0.7709\n",
      "Epoch 9/25\n",
      "79/79 [==============================] - 2s 27ms/step - loss: 0.4242 - accuracy: 0.7929 - precision: 0.7949 - recall: 0.7981 - val_loss: 0.4273 - val_accuracy: 0.7920 - val_precision: 0.7792 - val_recall: 0.7734\n",
      "Epoch 10/25\n",
      "79/79 [==============================] - 2s 27ms/step - loss: 0.4199 - accuracy: 0.7942 - precision: 0.7954 - recall: 0.8006 - val_loss: 0.4260 - val_accuracy: 0.7885 - val_precision: 0.7643 - val_recall: 0.7906\n",
      "Epoch 11/25\n",
      "79/79 [==============================] - 2s 27ms/step - loss: 0.4289 - accuracy: 0.7897 - precision: 0.7891 - recall: 0.7996 - val_loss: 0.4256 - val_accuracy: 0.7874 - val_precision: 0.7637 - val_recall: 0.7882\n",
      "Epoch 12/25\n",
      "79/79 [==============================] - 2s 27ms/step - loss: 0.4206 - accuracy: 0.7991 - precision: 0.8014 - recall: 0.8034 - val_loss: 0.4258 - val_accuracy: 0.7897 - val_precision: 0.7636 - val_recall: 0.7956\n",
      "Epoch 13/25\n",
      "79/79 [==============================] - 2s 28ms/step - loss: 0.4218 - accuracy: 0.7939 - precision: 0.7962 - recall: 0.7986 - val_loss: 0.4282 - val_accuracy: 0.7885 - val_precision: 0.7630 - val_recall: 0.7931\n",
      "Epoch 14/25\n",
      "79/79 [==============================] - 2s 26ms/step - loss: 0.4157 - accuracy: 0.7976 - precision: 0.8020 - recall: 0.7986 - val_loss: 0.4268 - val_accuracy: 0.7885 - val_precision: 0.7668 - val_recall: 0.7857\n",
      "Epoch 15/25\n",
      "79/79 [==============================] - 2s 27ms/step - loss: 0.4147 - accuracy: 0.7976 - precision: 0.7975 - recall: 0.8061 - val_loss: 0.4278 - val_accuracy: 0.7851 - val_precision: 0.7601 - val_recall: 0.7882\n",
      "Epoch 16/25\n",
      "79/79 [==============================] - 2s 27ms/step - loss: 0.4109 - accuracy: 0.8007 - precision: 0.8041 - recall: 0.8031 - val_loss: 0.4295 - val_accuracy: 0.7931 - val_precision: 0.7729 - val_recall: 0.7882\n",
      "Epoch 17/25\n",
      "79/79 [==============================] - 2s 27ms/step - loss: 0.4123 - accuracy: 0.7993 - precision: 0.8041 - recall: 0.7996 - val_loss: 0.4267 - val_accuracy: 0.7862 - val_precision: 0.7546 - val_recall: 0.8030\n",
      "Epoch 18/25\n",
      "79/79 [==============================] - 2s 27ms/step - loss: 0.4101 - accuracy: 0.8019 - precision: 0.7962 - recall: 0.8195 - val_loss: 0.4301 - val_accuracy: 0.7931 - val_precision: 0.7690 - val_recall: 0.7956\n",
      "Epoch 19/25\n",
      "79/79 [==============================] - 2s 27ms/step - loss: 0.4063 - accuracy: 0.8020 - precision: 0.8045 - recall: 0.8059 - val_loss: 0.4301 - val_accuracy: 0.7908 - val_precision: 0.7667 - val_recall: 0.7931\n",
      "Epoch 20/25\n",
      "79/79 [==============================] - 2s 27ms/step - loss: 0.4053 - accuracy: 0.8034 - precision: 0.8020 - recall: 0.8137 - val_loss: 0.4293 - val_accuracy: 0.7851 - val_precision: 0.7639 - val_recall: 0.7808\n",
      "Epoch 21/25\n",
      "79/79 [==============================] - 2s 27ms/step - loss: 0.4011 - accuracy: 0.8034 - precision: 0.8032 - recall: 0.8117 - val_loss: 0.4308 - val_accuracy: 0.7851 - val_precision: 0.7626 - val_recall: 0.7833\n",
      "Epoch 22/25\n",
      "79/79 [==============================] - 2s 27ms/step - loss: 0.4018 - accuracy: 0.8062 - precision: 0.8035 - recall: 0.8185 - val_loss: 0.4307 - val_accuracy: 0.7862 - val_precision: 0.7670 - val_recall: 0.7783\n",
      "Epoch 23/25\n",
      "79/79 [==============================] - 2s 27ms/step - loss: 0.4008 - accuracy: 0.8067 - precision: 0.8075 - recall: 0.8132 - val_loss: 0.4332 - val_accuracy: 0.7816 - val_precision: 0.7559 - val_recall: 0.7857\n",
      "Epoch 24/25\n",
      "79/79 [==============================] - 2s 27ms/step - loss: 0.4039 - accuracy: 0.8031 - precision: 0.8020 - recall: 0.8129 - val_loss: 0.4309 - val_accuracy: 0.7839 - val_precision: 0.7559 - val_recall: 0.7931\n",
      "Epoch 25/25\n",
      "79/79 [==============================] - 2s 27ms/step - loss: 0.3976 - accuracy: 0.8058 - precision: 0.8067 - recall: 0.8122 - val_loss: 0.4309 - val_accuracy: 0.7862 - val_precision: 0.7594 - val_recall: 0.7931\n"
     ]
    }
   ],
   "source": [
    "history=model.fit(X,Y,epochs=25,validation_split = 0.1,batch_size=100,shuffle=True)"
   ]
  },
  {
   "cell_type": "code",
   "execution_count": 93,
   "metadata": {},
   "outputs": [
    {
     "name": "stdout",
     "output_type": "stream",
     "text": [
      "272/272 [==============================] - 2s 8ms/step - loss: 0.3764 - accuracy: 0.8197 - precision: 0.8207 - recall: 0.8216\n"
     ]
    },
    {
     "data": {
      "text/plain": [
       "[0.3763964772224426,\n",
       " 0.8197400569915771,\n",
       " 0.8206707835197449,\n",
       " 0.8216080665588379]"
      ]
     },
     "execution_count": 93,
     "metadata": {},
     "output_type": "execute_result"
    }
   ],
   "source": [
    "model.evaluate(X,Y)"
   ]
  },
  {
   "cell_type": "code",
   "execution_count": 94,
   "metadata": {},
   "outputs": [
    {
     "data": {
      "image/png": "[encoded data removed]",
      "text/plain": [
       "<Figure size 432x288 with 1 Axes>"
      ]
     },
     "metadata": {
      "needs_background": "light"
     },
     "output_type": "display_data"
    }
   ],
   "source": [
    "plt.plot(history.history['accuracy'])\n",
    "plt.plot(history.history['val_accuracy'])\n",
    "plt.title('model accuracy')\n",
    "plt.ylabel('accuracy')\n",
    "plt.xlabel('epoch')\n",
    "plt.legend(['train', 'val'], loc='upper left')\n",
    "plt.show()"
   ]
  },
  {
   "cell_type": "code",
   "execution_count": 96,
   "metadata": {},
   "outputs": [
    {
     "data": {
      "image/png": "[encoded data removed]",
      "text/plain": [
       "<Figure size 432x288 with 1 Axes>"
      ]
     },
     "metadata": {
      "needs_background": "light"
     },
     "output_type": "display_data"
    }
   ],
   "source": [
    "plt.plot(history.history['loss'])\n",
    "plt.plot(history.history['val_loss'])\n",
    "plt.title('model loss')\n",
    "plt.ylabel('loss')\n",
    "plt.xlabel('epoch')\n",
    "plt.legend(['train', 'val'], loc='upper left')\n",
    "plt.show()"
   ]
  },
  {
   "cell_type": "code",
   "execution_count": 142,
   "metadata": {},
   "outputs": [],
   "source": [
    "Y_t = pd.DataFrame(raw_test.PassengerId)\n",
    "Y_t['Transported'] = model.predict(X_t) > 0.5"
   ]
  },
  {
   "cell_type": "code",
   "execution_count": null,
   "metadata": {},
   "outputs": [],
   "source": [
    "Y_t_exp=Y_t[:]\n",
    "Y_t_exp['Transported']=[x for x in ]"
   ]
  },
  {
   "cell_type": "code",
   "execution_count": 121,
   "metadata": {},
   "outputs": [
    {
     "data": {
      "text/plain": [
       "1.0"
      ]
     },
     "execution_count": 121,
     "metadata": {},
     "output_type": "execute_result"
    }
   ],
   "source": [
    "sum(Y_t_exp.Transported==Y_t.Transported)/len(Y_t)"
   ]
  },
  {
   "cell_type": "code",
   "execution_count": 107,
   "metadata": {},
   "outputs": [],
   "source": [
    "Y_t.to_csv('pred11.csv',index=False)"
   ]
  }
 ],
 "metadata": {
  "interpreter": {
   "hash": "224fd580946d0562b4265373121769786350b00f2dee5ac3e8c5433a57b0387e"
  },
  "kernelspec": {
   "display_name": "Python 3 (ipykernel)",
   "language": "python",
   "name": "python3"
  },
  "language_info": {
   "codemirror_mode": {
    "name": "ipython",
    "version": 3
   },
   "file_extension": ".py",
   "mimetype": "text/x-python",
   "name": "python",
   "nbconvert_exporter": "python",
   "pygments_lexer": "ipython3",
   "version": "3.9.12"
  }
 },
 "nbformat": 4,
 "nbformat_minor": 2
}
